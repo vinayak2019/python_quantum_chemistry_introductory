{
  "nbformat": 4,
  "nbformat_minor": 0,
  "metadata": {
    "colab": {
      "provenance": [],
      "collapsed_sections": [],
      "authorship_tag": "ABX9TyMh92PciQE7W/+HvEhGdZlr",
      "include_colab_link": true
    },
    "kernelspec": {
      "name": "python3",
      "display_name": "Python 3"
    },
    "language_info": {
      "name": "python"
    },
    "gpuClass": "standard"
  },
  "cells": [
    {
      "cell_type": "markdown",
      "metadata": {
        "id": "view-in-github",
        "colab_type": "text"
      },
      "source": [
        "<a href=\"https://colab.research.google.com/github/vinayak2019/python_quantum_chemistry_introductory/blob/main/DFT_for_computing_molecular_properties.ipynb\" target=\"_parent\"><img src=\"https://colab.research.google.com/assets/colab-badge.svg\" alt=\"Open In Colab\"/></a>"
      ]
    },
    {
      "cell_type": "markdown",
      "source": [
        "## Install packages"
      ],
      "metadata": {
        "id": "GYXI3Qu-Wh6E"
      }
    },
    {
      "cell_type": "code",
      "execution_count": null,
      "metadata": {
        "id": "hlXoW9Lxn5Q4"
      },
      "outputs": [],
      "source": [
        "! pip install rdkit\n",
        "! pip install pyscf"
      ]
    },
    {
      "cell_type": "markdown",
      "source": [
        "## Molecular properties\n",
        "\n",
        "In the previous sessions, we looked at generating molecular input for DFT calculations and running single-point energy, optimization and frequency calculations. In this session we will run more calculations and analyse them to obtain molecular properties.\n",
        "\n",
        "Session 1: Molecular input generation (https://www.youtube.com/watch?v=hHRMk5zx2Qw)\n",
        "\n",
        "Session 2: DFT basics (https://www.youtube.com/watch?v=xfvmAH7q3Uk&t=312s)"
      ],
      "metadata": {
        "id": "WNW3Z_3gWoEL"
      }
    },
    {
      "cell_type": "markdown",
      "source": [
        "## Molecular orbital (MO)\n",
        "\n",
        "We will get the energy of HOMO and LUMO. We will also visualize the MOs\n",
        "\n",
        "Let us start by running a SCF calculation"
      ],
      "metadata": {
        "id": "N2cVa4wUX7V6"
      }
    },
    {
      "cell_type": "code",
      "source": [
        "# import these definitions\n",
        "from rdkit import Chem\n",
        "from rdkit.Chem import Draw\n",
        "from rdkit.Chem import AllChem\n",
        "from rdkit.Chem.Draw import IPythonConsole\n",
        "IPythonConsole.drawOptions.addAtomIndices = True\n",
        "\n",
        "# generate ethene molecule\n",
        "smiles = \"C=C\"\n",
        "mol = Chem.MolFromSmiles(smiles)\n",
        "mol = Chem.AddHs(mol)\n",
        "Chem.AllChem.EmbedMolecule(mol)\n",
        "Chem.MolToXYZFile(mol, \"ethene.xyz\")\n",
        "\n",
        "# import the package\n",
        "from pyscf import gto, scf\n",
        "\n",
        "mol = gto.M(atom=\"ethene.xyz\")\n",
        "\n",
        "# set basis set\n",
        "mol.basis = \"6-31G\"\n",
        "\n",
        "# set the functional\n",
        "mf = mol.KS()\n",
        "mf.xc = 'b3lyp'\n",
        "\n",
        "# run energy calculations\n",
        "neutral_energy = mf.kernel()"
      ],
      "metadata": {
        "id": "u1vuM1KfX65g"
      },
      "execution_count": null,
      "outputs": []
    },
    {
      "cell_type": "markdown",
      "source": [
        "Most electronic structure packages will give you HOMO and LUMO values. But here is how to get it manually\n",
        "\n",
        "\n",
        "\n",
        "1.   Get the total number of electrons (n)\n",
        "2.   HOMO is the n/2 orbital\n",
        "\n"
      ],
      "metadata": {
        "id": "ltVZs9UacBJh"
      }
    },
    {
      "cell_type": "code",
      "source": [
        "# total number of electrons\n",
        "n = mol.tot_electrons()\n",
        "n"
      ],
      "metadata": {
        "id": "XgDzeqXQbTsC"
      },
      "execution_count": null,
      "outputs": []
    },
    {
      "cell_type": "code",
      "source": [
        "# display all orbitals\n",
        "mf.mo_energy"
      ],
      "metadata": {
        "id": "3g-dYjHYbLdU"
      },
      "execution_count": null,
      "outputs": []
    },
    {
      "cell_type": "code",
      "source": [
        "# HOMO is n/2 orbital. But python index starts from 0\n",
        "homo = mf.mo_energy[int(n/2) - 1]\n",
        "homo"
      ],
      "metadata": {
        "id": "_5M1Q49ecm7a"
      },
      "execution_count": null,
      "outputs": []
    },
    {
      "cell_type": "code",
      "source": [
        "# the unit of energy is Hartree. To convert to eV\n",
        "homo * 27.2114"
      ],
      "metadata": {
        "id": "YFzW8ifadQiD"
      },
      "execution_count": null,
      "outputs": []
    },
    {
      "cell_type": "markdown",
      "source": [
        "MOs are regions of electron density. They can be visualized."
      ],
      "metadata": {
        "id": "9TYyifpnd3im"
      }
    },
    {
      "cell_type": "code",
      "source": [
        "# import the definitions\n",
        "from pyscf.tools import molden\n",
        "\n",
        "# we will write the surface to molden files\n",
        "with open('ethene.molden', 'w') as f1:\n",
        "    molden.header(mol, f1)\n",
        "    molden.orbital_coeff(mol, f1, mf.mo_coeff, ene=mf.mo_energy, occ=mf.mo_occ)"
      ],
      "metadata": {
        "id": "5gpcL0SqZfkm"
      },
      "execution_count": null,
      "outputs": []
    },
    {
      "cell_type": "markdown",
      "source": [
        "### Exercise\n",
        "\n",
        "Get the HOMO-LUMO gap in Benzene. Use B3LYP/3-21G level of theory"
      ],
      "metadata": {
        "id": "cbbxPkbve4XH"
      }
    },
    {
      "cell_type": "code",
      "source": [
        "# YOUR CODE HERE"
      ],
      "metadata": {
        "id": "MqQTvcvHfJHu"
      },
      "execution_count": null,
      "outputs": []
    },
    {
      "cell_type": "markdown",
      "source": [
        "## Charged system\n",
        "\n",
        "The systems we looked at were neutral. Let us run calculations for charged system"
      ],
      "metadata": {
        "id": "2dN33QDkfUXw"
      }
    },
    {
      "cell_type": "code",
      "source": [
        "# Run single-point energy for cation of ethene\n",
        "\n",
        "# import the package\n",
        "from pyscf import gto, scf\n",
        "\n",
        "mol = gto.M(atom=\"ethene.xyz\")\n",
        "\n",
        "# set basis set\n",
        "mol.basis = \"6-31G\"\n",
        "\n",
        "########## SET CHARGE ################\n",
        "mol.charge = 1\n",
        "mol.spin = 1  #  (2*s) where s is the spin. some code use 2*s +1\n",
        "#####################################\n",
        "\n",
        "# set the functional\n",
        "mf = mol.KS()\n",
        "mf.xc = 'b3lyp'\n",
        "\n",
        "# run energy calculations\n",
        "cation_energy = mf.kernel()"
      ],
      "metadata": {
        "id": "G1cYCe3IfzYL"
      },
      "execution_count": null,
      "outputs": []
    },
    {
      "cell_type": "markdown",
      "source": [
        "Now that we have total energy of neutral molecule and cationic molecule, we can compute ionization energy"
      ],
      "metadata": {
        "id": "9-WnENi_hrIs"
      }
    },
    {
      "cell_type": "code",
      "source": [
        "# ionization is the difference in energies\n",
        "# we convert to eV\n",
        "( neutral_energy - cation_energy ) * 27.2114"
      ],
      "metadata": {
        "id": "0mHwbwT3h4e1"
      },
      "execution_count": null,
      "outputs": []
    },
    {
      "cell_type": "markdown",
      "source": [
        "### Exercise\n",
        "\n",
        "Compute the electron affinity of benzene at B3LYP/3-21G level of theory. \n",
        "\n",
        "Hint: electron affinity is energy required to add electron to system"
      ],
      "metadata": {
        "id": "WmaZHslLi7PZ"
      }
    },
    {
      "cell_type": "code",
      "source": [
        "# YOUR CODE HERE"
      ],
      "metadata": {
        "id": "Ex7-y6rpkjH3"
      },
      "execution_count": null,
      "outputs": []
    },
    {
      "cell_type": "markdown",
      "source": [
        "## Solvent effects\n",
        "\n",
        "Adding actual solvent molecules (explicit solvation) is computationally expensive. Implicit solvation uses dielectric constant to model polarization charges in molecule. [PCM](https://en.wikipedia.org/wiki/Polarizable_continuum_model) and [COSMO](https://en.wikipedia.org/wiki/COSMO_solvation_model) are popular solvation models.\n",
        "\n",
        "Here we will use COSMO as it is the model implemented in [pySCF](https://pyscf.org/user/solvent.html).\n"
      ],
      "metadata": {
        "id": "W1CAmGwck73W"
      }
    },
    {
      "cell_type": "code",
      "source": [
        "mol = gto.M(atom=\"ethene.xyz\")\n",
        "\n",
        "# set basis set\n",
        "mol.basis = \"6-31G\"\n",
        "\n",
        "# set the functional\n",
        "mf = mol.KS()\n",
        "mf.xc = 'b3lyp'\n",
        "\n",
        "# set solvent\n",
        "mf = mf.DDCOSMO()\n",
        "mf.with_solvent.eps = 35.688  # Acetonitrile\n",
        "\n",
        "# run single point energy\n",
        "mf = mf.run()\n",
        "\n",
        "#get total energy\n",
        "neutral_energy_solvent = mf.e_tot"
      ],
      "metadata": {
        "id": "2pKzbFyVm2Wx"
      },
      "execution_count": null,
      "outputs": []
    },
    {
      "cell_type": "code",
      "source": [
        "# estimate of solvation enthalpy in eV\n",
        "(neutral_energy_solvent - neutral_energy ) * 27.2114"
      ],
      "metadata": {
        "id": "oBNuxyqWo74B"
      },
      "execution_count": null,
      "outputs": []
    },
    {
      "cell_type": "markdown",
      "source": [
        "## Time-dependent DFT (TD-DFT)\n",
        "\n",
        "Behind the scene of TD-DFT is similar to DFT. We have basis set, functional, charge, spin etc. The difference in the equation we solve.\n",
        "\n",
        "In DFT we solve time independent Kohn-Sham equation (similar to time independent Schrodinger equation). For TD-DFT we solve equation similar to time dependent Schrodinger equation\n",
        "\n",
        "\\begin{equation}\n",
        "\\hat{H}\\Psi (x,t)=i\\hbar\\dfrac{\\partial}{\\partial t}\\Psi (x,t)\n",
        "\\end{equation}"
      ],
      "metadata": {
        "id": "iSWQhV3UxJni"
      }
    },
    {
      "cell_type": "code",
      "source": [
        "from pyscf import gto, scf, dft, tddft\n",
        "\n",
        "mol = gto.M(atom=\"ethene.xyz\")\n",
        "\n",
        "# set basis set\n",
        "mol.basis = \"6-31G\"\n",
        "\n",
        "# set DFT functional\n",
        "mf = dft.RKS(mol)\n",
        "mf.xc = 'b3lyp'\n",
        "\n",
        "\n",
        "################## SELECT ONE ################\n",
        "\n",
        "# initialize the mf object in gas phase\n",
        "# mf.kernel()\n",
        "\n",
        "# OR\n",
        "\n",
        "# initialize the mf object in solvent\n",
        "mf = mf.DDCOSMO()\n",
        "mf.with_solvent.eps = 35.688  # Acetonitrile\n",
        "mf = mf.run()\n",
        "\n",
        "##################################################\n",
        "\n",
        "# setup the TDDFT \n",
        "td = tddft.TDDFT(mf)\n",
        "\n",
        "# set type and number of states required\n",
        "td.singlet = True\n",
        "td.nstates = 10\n",
        "\n",
        "# run TDDFT\n",
        "td.kernel()\n",
        "\n",
        "# analyze to show a table of excitations\n",
        "td.analyze()"
      ],
      "metadata": {
        "id": "ySLPSjkXn6n5"
      },
      "execution_count": null,
      "outputs": []
    },
    {
      "cell_type": "code",
      "source": [
        "# helper function to plot absorption spectrum\n",
        "def plot_absorption(td_obj, step=0.01, sigma=0.05):\n",
        "    import scipy.constants as cst\n",
        "    import numpy as np\n",
        "    from scipy.stats import norm\n",
        "    import matplotlib.pyplot as plt\n",
        "\n",
        "    # get transitions can convert to eV\n",
        "    transitions =  td_obj.e * 27.2114\n",
        "\n",
        "    # get oscilator strengths\n",
        "    f = td_obj.oscillator_strength()\n",
        "\n",
        "    # get minimum and miximum x-values for plot \n",
        "    minval = min([val for val in transitions]) - 5.0 * sigma\n",
        "    maxval = max([val for val in transitions]) + 5.0 * sigma\n",
        "\n",
        "    # number of data points in line\n",
        "    npts = int((maxval - minval) / step) + 1\n",
        "\n",
        "    # generating the plot\n",
        "    eneval = np.linspace(minval, maxval, npts)  # in eV\n",
        "    lambdaval = [cst.h * cst.c / (val * cst.e) * 1.e9\n",
        "                 for val in eneval]  # in nm\n",
        "\n",
        "    # sum of gaussian functions\n",
        "    spectra = np.zeros(npts)\n",
        "    for i in range(len(transitions)):\n",
        "        spectra += f[i] * norm.pdf(eneval, transitions[i], sigma)\n",
        "    spectra /= spectra.max()\n",
        "\n",
        "    # plot the spectrum\n",
        "    plt.plot(lambdaval,spectra)\n",
        "    plt.xlabel(\"Wavelength (nm)\")\n",
        "    plt.ylabel(\"Absorption (au)\")"
      ],
      "metadata": {
        "id": "stnLrCZeoF03"
      },
      "execution_count": null,
      "outputs": []
    },
    {
      "cell_type": "code",
      "source": [
        "# plot the absorption from td\n",
        "plot_absorption(td)"
      ],
      "metadata": {
        "id": "UYYb4r5foLb1"
      },
      "execution_count": null,
      "outputs": []
    },
    {
      "cell_type": "markdown",
      "source": [
        "Congratulations!! You have completed the Quantum Chemistry with python series.\n",
        "\n",
        "Please take this survey to help improve future workshops https://docs.google.com/forms/d/e/1FAIpQLSdpn3lpq1n1fA4aqLDvfA9VARsTNBnD5p6gcCtJ_VaYGiYxlA/viewform?usp=sf_link"
      ],
      "metadata": {
        "id": "2VNOrsjA031O"
      }
    },
    {
      "cell_type": "markdown",
      "source": [
        "# Get your LinkedIn sharable certificate\n",
        "\n",
        "Steps to get your certificate\n",
        "\n",
        "\n",
        "1.   Complete the task below. You should insert code in the cells with \"YOUR CODE HERE\"\n",
        "2.   Print the notebook File --> Print. Do not change the file name while you save as PDF.\n",
        "3.  Go to [this](https://www.vinayakbhat.xyz/chemistrywithcode/certificates/) page. Fill in the form and add the PDF file of the notebook from step 2.\n",
        "4.  Save your certificate as an image. You can click on \"Add to LinkedIn\" to share it on LinkedIn.\n",
        "\n",
        "\n"
      ],
      "metadata": {
        "id": "mcTt6YB-0w5R"
      }
    },
    {
      "cell_type": "markdown",
      "source": [
        "# Task\n",
        "\n",
        "You will reproduce results from the article [J. Mater. Chem. C, 2016,4, 2931-2935](https://doi.org/10.1039/C5TC03188E). The article contains results from experiments and computations. The molecule investigated is 4-amino-2,2′-bipyridine (see below for graphical abstract). \n",
        "\n",
        "**Perform all your calculations with B3LYP functional and basis set 6-31G****"
      ],
      "metadata": {
        "id": "9W1UKy9oqiW_"
      }
    },
    {
      "cell_type": "markdown",
      "source": [
        "![image.png](data:image/png;base64,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)"
      ],
      "metadata": {
        "id": "cd31Zv4vqfOS"
      }
    },
    {
      "cell_type": "markdown",
      "source": [
        "First, we will generate the 3D structure of the molecule 4-amino-2,2′-bipyridine. "
      ],
      "metadata": {
        "id": "GBaehlYAqzDR"
      }
    },
    {
      "cell_type": "code",
      "source": [
        "# YOUR CODE HERE"
      ],
      "metadata": {
        "id": "aKO6wqKJ0Lsg"
      },
      "execution_count": null,
      "outputs": []
    },
    {
      "cell_type": "markdown",
      "source": [
        "Now optimize the structure in gas phase and run frequency calculations to confirm convergence"
      ],
      "metadata": {
        "id": "0YOE9EoQrX26"
      }
    },
    {
      "cell_type": "code",
      "source": [
        "# YOUR CODE HERE"
      ],
      "metadata": {
        "id": "u0xSHjs1rmbw"
      },
      "execution_count": null,
      "outputs": []
    },
    {
      "cell_type": "markdown",
      "source": [
        "Generate the MOs and compare your results with Figure S10 in the [SI](https://www.rsc.org/suppdata/c5/tc/c5tc03188e/c5tc03188e1.pdf)"
      ],
      "metadata": {
        "id": "5o0GqRlcrtw7"
      }
    },
    {
      "cell_type": "code",
      "source": [
        "# YOUR CODE HERE"
      ],
      "metadata": {
        "id": "bOIIT3xBsKgO"
      },
      "execution_count": null,
      "outputs": []
    },
    {
      "cell_type": "markdown",
      "source": [
        "To compare absorption spectrum in Figure S11 of the [SI](https://www.rsc.org/suppdata/c5/tc/c5tc03188e/c5tc03188e1.pdf), run TDDFT calcluations in chloroform with the optimized structure."
      ],
      "metadata": {
        "id": "4Hs5aIpPt1Wg"
      }
    },
    {
      "cell_type": "code",
      "source": [
        "# YOUR CODE HERE"
      ],
      "metadata": {
        "id": "lLi_64h2uH4d"
      },
      "execution_count": null,
      "outputs": []
    },
    {
      "cell_type": "markdown",
      "source": [
        "Finally, perform the dihedral angle scan to get the potential energy surface as shown in Figure S1 of the [SI](https://www.rsc.org/suppdata/c5/tc/c5tc03188e/c5tc03188e1.pdf)\n",
        "\n",
        "Hint: Run SCF calculations for different dihedral angle. You can omit optimization of the structure with dihedral [constraints](https://pyscf.org/user/geomopt.html).\n",
        "\n",
        "For plotting in python you may find [this video](https://youtu.be/hNNRVRmZO1s?t=8317) helpful. "
      ],
      "metadata": {
        "id": "JrRjw4ZpuORd"
      }
    },
    {
      "cell_type": "code",
      "source": [
        "# YOUR CODE HERE"
      ],
      "metadata": {
        "id": "EAVtGXlUudfB"
      },
      "execution_count": null,
      "outputs": []
    },
    {
      "cell_type": "markdown",
      "source": [
        "Congratulations! You have reached the end of the task. You can now follow the instructions to get your certificate."
      ],
      "metadata": {
        "id": "ZrcdxYqlw18k"
      }
    },
    {
      "cell_type": "markdown",
      "source": [
        "## Want to participate in more workshops?\n",
        "\n",
        "\n",
        "\n",
        "Folow Chemistry With Code on [Facebook](https://www.facebook.com/ChemistryWithCode) and [YouTube](https://www.youtube.com/c/Chemistrywithcode/) to get updates on future workshops"
      ],
      "metadata": {
        "id": "PyHtJoTovqSA"
      }
    }
  ]
}